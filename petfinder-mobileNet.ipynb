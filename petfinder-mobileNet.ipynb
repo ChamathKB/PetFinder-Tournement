{
 "cells": [
  {
   "cell_type": "code",
   "execution_count": 1,
   "metadata": {
    "execution": {
     "iopub.execute_input": "2021-11-21T18:00:32.614990Z",
     "iopub.status.busy": "2021-11-21T18:00:32.614630Z",
     "iopub.status.idle": "2021-11-21T18:00:38.359187Z",
     "shell.execute_reply": "2021-11-21T18:00:38.358435Z",
     "shell.execute_reply.started": "2021-11-21T18:00:32.614906Z"
    }
   },
   "outputs": [],
   "source": [
    "import numpy as np\n",
    "import pandas as pd\n",
    "import tensorflow as tf\n",
    "from tensorflow.keras import Sequential, Model\n",
    "from tensorflow.keras.layers import Dense, Flatten, Dropout, Concatenate, Input\n",
    "from tensorflow.keras.callbacks import Callback, EarlyStopping, ModelCheckpoint\n",
    "from sklearn.model_selection import train_test_split\n",
    "from PIL import Image\n",
    "import matplotlib.pyplot as plt\n",
    "import os\n",
    "import random\n",
    "import math\n",
    "import sys\n",
    "\n",
    "%matplotlib inline"
   ]
  },
  {
   "cell_type": "code",
   "execution_count": 2,
   "metadata": {
    "execution": {
     "iopub.execute_input": "2021-11-21T18:00:41.396148Z",
     "iopub.status.busy": "2021-11-21T18:00:41.395630Z",
     "iopub.status.idle": "2021-11-21T18:00:41.401099Z",
     "shell.execute_reply": "2021-11-21T18:00:41.400344Z",
     "shell.execute_reply.started": "2021-11-21T18:00:41.396109Z"
    }
   },
   "outputs": [],
   "source": [
    "from tensorflow.keras.applications import MobileNet\n",
    "from tensorflow.keras.applications.mobilenet import preprocess_input"
   ]
  },
  {
   "cell_type": "code",
   "execution_count": 3,
   "metadata": {
    "execution": {
     "iopub.execute_input": "2021-11-21T18:00:42.795924Z",
     "iopub.status.busy": "2021-11-21T18:00:42.795327Z",
     "iopub.status.idle": "2021-11-21T18:00:43.472117Z",
     "shell.execute_reply": "2021-11-21T18:00:43.471133Z",
     "shell.execute_reply.started": "2021-11-21T18:00:42.795887Z"
    }
   },
   "outputs": [],
   "source": [
    "model_name = 'MobileNet'\n",
    "!mkdir './MobileNet'\n",
    "save_VGG16 = './MobileNet/'"
   ]
  },
  {
   "cell_type": "markdown",
   "metadata": {},
   "source": [
    "### Load and Preprocess Data"
   ]
  },
  {
   "cell_type": "code",
   "execution_count": 4,
   "metadata": {
    "execution": {
     "iopub.execute_input": "2021-11-21T18:00:44.890835Z",
     "iopub.status.busy": "2021-11-21T18:00:44.890565Z",
     "iopub.status.idle": "2021-11-21T18:00:44.899069Z",
     "shell.execute_reply": "2021-11-21T18:00:44.896245Z",
     "shell.execute_reply.started": "2021-11-21T18:00:44.890804Z"
    }
   },
   "outputs": [],
   "source": [
    "AUTOTUNE = tf.data.experimental.AUTOTUNE  \n",
    "img_size = 224\n",
    "channels = 3\n",
    "Batch_size = 16\n",
    "\n",
    "# Directory for dataset\n",
    "train_dir = \"/kaggle/input/petfinder-pawpularity-score/train/\"\n",
    "test_dir = \"/kaggle/input/petfinder-pawpularity-score/test/\"\n",
    "\n",
    "def seed_everything():\n",
    "    os.environ['PYTHONHASHSEED'] = str(123)\n",
    "    np.random.seed(123)\n",
    "    random.seed(123)\n",
    "    tf.random.set_seed(123)\n",
    "    os.environ[\"TF_CPP_MIN_LOG_LEVEL\"] = '2'\n",
    "    os.environ['PYTHONHASHSEED'] = str(123)\n",
    "\n",
    "seed_everything()"
   ]
  },
  {
   "cell_type": "code",
   "execution_count": 5,
   "metadata": {
    "execution": {
     "iopub.execute_input": "2021-11-21T18:00:46.435974Z",
     "iopub.status.busy": "2021-11-21T18:00:46.435717Z",
     "iopub.status.idle": "2021-11-21T18:00:46.492095Z",
     "shell.execute_reply": "2021-11-21T18:00:46.491389Z",
     "shell.execute_reply.started": "2021-11-21T18:00:46.435946Z"
    }
   },
   "outputs": [],
   "source": [
    "# Reading dataset train, test in df and df_test respectively\n",
    "df = pd.read_csv(\"/kaggle/input/petfinder-pawpularity-score/train.csv\")\n",
    "df_test = pd.read_csv(\"/kaggle/input/petfinder-pawpularity-score/test.csv\")\n",
    "Id = df_test[\"Id\"].copy()\n",
    "\n",
    "\n",
    "# Converting Id column for taking images\n",
    "df[\"Id\"] = df[\"Id\"].apply(lambda x : \"/kaggle/input/petfinder-pawpularity-score/train/\" + x + \".jpg\")\n",
    "df_test[\"Id\"] = df_test[\"Id\"].apply(lambda x : \"/kaggle/input/petfinder-pawpularity-score/test/\" + x + \".jpg\")"
   ]
  },
  {
   "cell_type": "code",
   "execution_count": 6,
   "metadata": {
    "execution": {
     "iopub.execute_input": "2021-11-21T18:00:52.810741Z",
     "iopub.status.busy": "2021-11-21T18:00:52.810487Z",
     "iopub.status.idle": "2021-11-21T18:00:52.826967Z",
     "shell.execute_reply": "2021-11-21T18:00:52.825011Z",
     "shell.execute_reply.started": "2021-11-21T18:00:52.810712Z"
    }
   },
   "outputs": [],
   "source": [
    "def image_preprocess(is_labelled):  \n",
    "    def augment(image):\n",
    "        image = tf.image.random_flip_left_right(image)\n",
    "        image = tf.image.random_flip_up_down(image)\n",
    "        image = tf.image.random_contrast(image, 0.95, 1.05)\n",
    "        return image\n",
    "    \n",
    "    def can_be_augmented(img, label):\n",
    "        return augment(img), label\n",
    "    \n",
    "#   If record has label both image and lable will be returned\n",
    "    return can_be_augmented if is_labelled else augment\n",
    "\n",
    "def image_read(is_labelled):\n",
    "    def decode(path):\n",
    "        image = tf.io.read_file(path)\n",
    "        image = tf.image.decode_jpeg(image, channels=channels)\n",
    "        image = tf.cast(image, tf.float32)\n",
    "        image = tf.image.resize(image, (img_size, img_size))\n",
    "        image = tf.keras.applications.efficientnet.preprocess_input(image)\n",
    "        return image\n",
    "    \n",
    "    def can_be_decoded(path, label):\n",
    "        return decode(path), label\n",
    "    return can_be_decoded if is_labelled else decode\n",
    "\n",
    "\n",
    "# Creating the dataset\n",
    "def create_dataset(df, df_meta, batch_size, is_labelled = False, augment = False, shuffle = False):\n",
    "    image_read_fn = image_read(is_labelled)\n",
    "    image_preprocess_fn = image_preprocess(is_labelled)\n",
    "    \n",
    "    if is_labelled:\n",
    "        dataset = tf.data.Dataset.from_tensor_slices((df[\"Id\"].values, df_meta.values))\n",
    "    else:\n",
    "        dataset = tf.data.Dataset.from_tensor_slices((df[\"Id\"].values))\n",
    "    \n",
    "    dataset = dataset.map(image_read_fn, num_parallel_calls=AUTOTUNE)\n",
    "    dataset = dataset.map(image_preprocess_fn, num_parallel_calls=AUTOTUNE) if augment else dataset\n",
    "#     dataset = dataset.shuffle(1024, reshuffle_each_iteration=True) if shuffle else dataset\n",
    "#     dataset = dataset.batch(batch_size)\n",
    "    dataset = dataset.prefetch(AUTOTUNE)\n",
    "    return dataset\n",
    "\n",
    "def create_metadata_dataset(df, batch_size):\n",
    "    dataset = tf.data.Dataset.from_tensor_slices((df[\"Pawpularity\"].values))\n",
    "#     dataset = dataset.shuffle(1024, reshuffle_each_iteration=True)\n",
    "#     dataset = dataset.batch(batch_size)\n",
    "    dataset = dataset.prefetch(AUTOTUNE)\n",
    "    return dataset \n",
    "\n",
    "def create_metadata_dataset_test(df, batch_size):\n",
    "    dataset = tf.data.Dataset.from_tensor_slices((df.values))\n",
    "#     dataset = dataset.shuffle(1024, reshuffle_each_iteration=True)\n",
    "#     dataset = dataset.batch(batch_size)\n",
    "    dataset = dataset.prefetch(AUTOTUNE)\n",
    "    return dataset\n",
    "\n",
    "def create_metadata(df, lab,batch_size):\n",
    "    dataset = tf.data.Dataset.from_tensor_slices((df.values, lab['Pawpularity'].values))\n",
    "    dataset = dataset.batch(batch_size)\n",
    "    dataset = dataset.prefetch(AUTOTUNE)\n",
    "    return dataset\n",
    "\n",
    "def create_metadata_test(df,batch_size):\n",
    "    dataset = tf.data.Dataset.from_tensor_slices((df.values))\n",
    "    dataset = dataset.batch(batch_size)\n",
    "    dataset = dataset.prefetch(AUTOTUNE)\n",
    "    return dataset"
   ]
  },
  {
   "cell_type": "code",
   "execution_count": 7,
   "metadata": {
    "execution": {
     "iopub.execute_input": "2021-11-21T18:00:54.606453Z",
     "iopub.status.busy": "2021-11-21T18:00:54.605587Z",
     "iopub.status.idle": "2021-11-21T18:00:57.359820Z",
     "shell.execute_reply": "2021-11-21T18:00:57.359116Z",
     "shell.execute_reply.started": "2021-11-21T18:00:54.606400Z"
    }
   },
   "outputs": [],
   "source": [
    "trn = df.iloc[:9000]\n",
    "val = df.iloc[9001:]\n",
    "tes = np.zeros((df_test.shape[0],),dtype='float32')\n",
    "tes = pd.DataFrame(tes)\n",
    "\n",
    "xtrain_att_trn = trn.drop([\"Id\", \"Pawpularity\"],axis=1)\n",
    "xtrain_att_val = val.drop([\"Id\", \"Pawpularity\"],axis=1)\n",
    "test_att = df_test.drop([\"Id\"],axis=1)\n",
    "\n",
    "xtrain_att_trn.astype('float32')\n",
    "xtrain_att_val.astype('float32')\n",
    "test_att.astype('float32')\n",
    "\n",
    "train = create_dataset(trn, xtrain_att_trn,Batch_size, is_labelled = True, augment = False, shuffle = False)\n",
    "validation = create_dataset(val, xtrain_att_val,Batch_size, is_labelled = True, augment = False, shuffle = False)\n",
    "test = create_dataset(df_test, test_att,Batch_size, is_labelled = True, augment = False, shuffle=False)\n",
    "train_att = create_metadata(xtrain_att_trn, trn,Batch_size)\n",
    "test_att = create_metadata_test(test_att,Batch_size)\n",
    "\n",
    "\n",
    "ytrain_trn = create_metadata_dataset(trn, Batch_size)\n",
    "ytrain_val = create_metadata_dataset(val, Batch_size)\n",
    "test_val = create_metadata_dataset_test(tes, Batch_size)\n",
    "\n",
    "train = tf.data.Dataset.zip((train, ytrain_trn)).batch(Batch_size)\n",
    "validation = tf.data.Dataset.zip((validation, ytrain_val)).batch(Batch_size)\n",
    "test = tf.data.Dataset.zip((test, test_val)).batch(Batch_size)"
   ]
  },
  {
   "cell_type": "markdown",
   "metadata": {},
   "source": [
    "### Model training"
   ]
  },
  {
   "cell_type": "code",
   "execution_count": 8,
   "metadata": {
    "execution": {
     "iopub.execute_input": "2021-11-21T18:01:03.636124Z",
     "iopub.status.busy": "2021-11-21T18:01:03.635618Z",
     "iopub.status.idle": "2021-11-21T18:01:04.505655Z",
     "shell.execute_reply": "2021-11-21T18:01:04.504855Z",
     "shell.execute_reply.started": "2021-11-21T18:01:03.636087Z"
    }
   },
   "outputs": [],
   "source": [
    "mobileNet_base = MobileNet(include_top=False, pooling=None, input_shape=(img_size, img_size, channels))\n",
    "\n",
    "inner = mobileNet_base.output\n",
    "inner = Flatten()(inner)\n",
    "inner = Dense(units=256, activation='relu')(inner)\n",
    "inner = Dropout(0.2)(inner)\n",
    "\n",
    "inp2 = Input(shape=(12))\n",
    "\n",
    "con = Concatenate()([inner, inp2])\n",
    "x = Dense(units = 64, activation=\"relu\")(con)\n",
    "out = Dense(units = 1)(x)\n",
    "\n",
    "model = Model([mobileNet_base.input, inp2], out)"
   ]
  },
  {
   "cell_type": "code",
   "execution_count": 9,
   "metadata": {
    "execution": {
     "iopub.execute_input": "2021-11-21T18:01:06.255904Z",
     "iopub.status.busy": "2021-11-21T18:01:06.255427Z",
     "iopub.status.idle": "2021-11-21T18:01:06.274830Z",
     "shell.execute_reply": "2021-11-21T18:01:06.274126Z",
     "shell.execute_reply.started": "2021-11-21T18:01:06.255868Z"
    }
   },
   "outputs": [],
   "source": [
    "early_stopping = EarlyStopping(patience=5, restore_best_weights=True)\n",
    "\n",
    "model.compile(loss=\"mse\", \n",
    "              optimizer = 'adam', \n",
    "              metrics=[tf.keras.metrics.RootMeanSquaredError()])"
   ]
  },
  {
   "cell_type": "code",
   "execution_count": 10,
   "metadata": {
    "execution": {
     "iopub.execute_input": "2021-11-21T18:01:32.900939Z",
     "iopub.status.busy": "2021-11-21T18:01:32.900667Z",
     "iopub.status.idle": "2021-11-21T18:12:14.276397Z",
     "shell.execute_reply": "2021-11-21T18:12:14.275590Z",
     "shell.execute_reply.started": "2021-11-21T18:01:32.900910Z"
    }
   },
   "outputs": [],
   "source": [
    "history = model.fit(train,\n",
    "                      epochs=25, \n",
    "                      validation_data = validation,\n",
    "                      callbacks = [early_stopping])"
   ]
  },
  {
   "cell_type": "code",
   "execution_count": 11,
   "metadata": {
    "execution": {
     "iopub.execute_input": "2021-11-21T18:12:59.326997Z",
     "iopub.status.busy": "2021-11-21T18:12:59.326253Z",
     "iopub.status.idle": "2021-11-21T18:12:59.931524Z",
     "shell.execute_reply": "2021-11-21T18:12:59.930763Z",
     "shell.execute_reply.started": "2021-11-21T18:12:59.326959Z"
    }
   },
   "outputs": [],
   "source": [
    "model.save('petfinder_mobileNet.h5')"
   ]
  },
  {
   "cell_type": "markdown",
   "metadata": {},
   "source": [
    "### Model evaluation"
   ]
  },
  {
   "cell_type": "code",
   "execution_count": 12,
   "metadata": {
    "execution": {
     "iopub.execute_input": "2021-11-21T18:13:03.325846Z",
     "iopub.status.busy": "2021-11-21T18:13:03.325415Z",
     "iopub.status.idle": "2021-11-21T18:13:03.347768Z",
     "shell.execute_reply": "2021-11-21T18:13:03.346974Z",
     "shell.execute_reply.started": "2021-11-21T18:13:03.325811Z"
    }
   },
   "outputs": [],
   "source": [
    "train_stats = pd.DataFrame(history.history)\n",
    "\n",
    "train_stats.sort_values(by=['val_root_mean_squared_error'], inplace=False, ascending=True)"
   ]
  },
  {
   "cell_type": "code",
   "execution_count": 13,
   "metadata": {
    "execution": {
     "iopub.execute_input": "2021-11-21T18:13:08.947335Z",
     "iopub.status.busy": "2021-11-21T18:13:08.946997Z",
     "iopub.status.idle": "2021-11-21T18:13:09.241777Z",
     "shell.execute_reply": "2021-11-21T18:13:09.241078Z",
     "shell.execute_reply.started": "2021-11-21T18:13:08.947297Z"
    }
   },
   "outputs": [],
   "source": [
    "train_stats.plot(y=['loss', 'val_loss'], kind='line')"
   ]
  },
  {
   "cell_type": "code",
   "execution_count": 14,
   "metadata": {
    "execution": {
     "iopub.execute_input": "2021-11-21T18:13:10.856331Z",
     "iopub.status.busy": "2021-11-21T18:13:10.855858Z",
     "iopub.status.idle": "2021-11-21T18:13:11.088658Z",
     "shell.execute_reply": "2021-11-21T18:13:11.087979Z",
     "shell.execute_reply.started": "2021-11-21T18:13:10.856294Z"
    }
   },
   "outputs": [],
   "source": [
    "train_stats.plot(y=['root_mean_squared_error', 'val_root_mean_squared_error'], kind='line')"
   ]
  },
  {
   "cell_type": "code",
   "execution_count": 15,
   "metadata": {
    "execution": {
     "iopub.execute_input": "2021-11-21T18:13:19.427204Z",
     "iopub.status.busy": "2021-11-21T18:13:19.426461Z",
     "iopub.status.idle": "2021-11-21T18:13:19.862021Z",
     "shell.execute_reply": "2021-11-21T18:13:19.861284Z",
     "shell.execute_reply.started": "2021-11-21T18:13:19.427158Z"
    }
   },
   "outputs": [],
   "source": [
    "pred = model.predict(test)\n",
    "\n",
    "final=pd.DataFrame()\n",
    "final['Id']=Id\n",
    "final['Pawpularity']=pred\n",
    "final.to_csv('submission.csv',index=False)"
   ]
  },
  {
   "cell_type": "code",
   "execution_count": null,
   "metadata": {},
   "outputs": [],
   "source": []
  }
 ],
 "metadata": {
  "kernelspec": {
   "display_name": "Python 3",
   "language": "python",
   "name": "python3"
  },
  "language_info": {
   "codemirror_mode": {
    "name": "ipython",
    "version": 3
   },
   "file_extension": ".py",
   "mimetype": "text/x-python",
   "name": "python",
   "nbconvert_exporter": "python",
   "pygments_lexer": "ipython3",
   "version": "3.8.5"
  }
 },
 "nbformat": 4,
 "nbformat_minor": 4
}
